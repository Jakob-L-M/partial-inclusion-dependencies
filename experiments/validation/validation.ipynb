{
 "cells": [
  {
   "cell_type": "code",
   "execution_count": null,
   "metadata": {},
   "outputs": [],
   "source": [
    "import pandas as pd\n",
    "from glob import glob\n",
    "import numpy as np\n",
    "from tqdm.auto import tqdm"
   ]
  },
  {
   "cell_type": "code",
   "execution_count": null,
   "metadata": {},
   "outputs": [],
   "source": [
    "DATA_PATH = r\"D:\\MA\\data\\Kaggle\\animal-crossing-new-horizons-nookplaza-dataset\"\n",
    "RESULT_PATH = r\"D:\\Programming\\partial-BINDER\\pBinder\\results\""
   ]
  },
  {
   "cell_type": "code",
   "execution_count": null,
   "metadata": {},
   "outputs": [],
   "source": [
    "df_dict = {}\n",
    "for relation in glob(DATA_PATH + \"/*.csv\"):\n",
    "    name = relation[len(DATA_PATH)+1:-4]\n",
    "    df_dict[name] = pd.read_csv(relation, dtype=str, na_filter=False)"
   ]
  },
  {
   "cell_type": "code",
   "execution_count": null,
   "metadata": {},
   "outputs": [],
   "source": [
    "def load_att(att_string: str):\n",
    "    att_string = att_string.strip()\n",
    "    attributes = []\n",
    "    for i in att_string.split(','):\n",
    "        relation = i.split('.')[0]\n",
    "        attributes.append(''.join(i.split('.')[1:]))\n",
    "    return relation, attributes"
   ]
  },
  {
   "cell_type": "code",
   "execution_count": null,
   "metadata": {},
   "outputs": [],
   "source": [
    "def validate_IND(dep_relation, dep_attributes, ref_relation, ref_attributes):\n",
    "    dep_values = df_dict[dep_relation][dep_attributes]\n",
    "    dep_values = dep_values[np.all(dep_values != '', axis=1)]\n",
    "    dep_values = dep_values.values.T.tolist()\n",
    "    dep_values = set(map('#'.join, zip(*dep_values)))\n",
    "\n",
    "    ref_values = df_dict[ref_relation][ref_attributes]\n",
    "    ref_values = ref_values[np.all(ref_values != '', axis=1)]\n",
    "    ref_values = ref_values.values.T.tolist()\n",
    "    ref_values = set(map('#'.join, zip(*ref_values)))\n",
    "    \n",
    "    for d in dep_values:\n",
    "        if d not in ref_values:\n",
    "            return False\n",
    "    return True"
   ]
  },
  {
   "cell_type": "code",
   "execution_count": null,
   "metadata": {},
   "outputs": [],
   "source": [
    "known_INDs = set()\n",
    "def recursive_subset_check(dep_rel, dep_att, ref_rel, ref_att):\n",
    "    s = f'{dep_rel}.{dep_att} <= {ref_rel}.{ref_att}'\n",
    "\n",
    "    if s in known_INDs:\n",
    "        return True\n",
    "\n",
    "    if len(dep_att) > 1:\n",
    "        for i in range(len(dep_att)):\n",
    "            valid = recursive_subset_check(dep_rel, dep_att[:i] + dep_att[(i+1):], ref_rel, ref_att[:i] + ref_att[(i+1):])\n",
    "            if not valid:\n",
    "                return False\n",
    "    valid = validate_IND(dep_rel, dep_att, ref_rel, ref_att)\n",
    "    if valid:\n",
    "        known_INDs.add(s)\n",
    "    return valid"
   ]
  },
  {
   "cell_type": "code",
   "execution_count": null,
   "metadata": {},
   "outputs": [],
   "source": [
    "def run():\n",
    "    e_count = 0\n",
    "    distinct_pINDs = set()\n",
    "    for layer in sorted(glob(RESULT_PATH + \"/*.txt\")):\n",
    "        with open(layer, mode='r', encoding='utf-8-sig') as f:\n",
    "            pINDs = f.readlines()\n",
    "        for pIND in tqdm(pINDs):\n",
    "            pIND = pIND[1:-2]\n",
    "            pIND = pIND.replace(u'\\ufeff', '')\n",
    "            dep = pIND.split(\") <= (\")[0]\n",
    "            dep_rel, dep_att = load_att(dep)\n",
    "\n",
    "            for ref in (pIND.split(\") <= (\")[1]).split(\") (\", ):\n",
    "                ref_rel, ref_att = load_att(ref)\n",
    "\n",
    "                if not recursive_subset_check(dep_rel, dep_att, ref_rel, ref_att):\n",
    "                    e_count += 1\n",
    "                    print(f'Error {e_count} for:', dep_rel, dep_att, ref_rel, ref_att)\n",
    "                distinct_pINDs.add(dep + \" <= \" + ref)\n",
    "    return distinct_pINDs"
   ]
  },
  {
   "cell_type": "code",
   "execution_count": null,
   "metadata": {},
   "outputs": [],
   "source": [
    "binder_pINDs = run()"
   ]
  },
  {
   "cell_type": "code",
   "execution_count": null,
   "metadata": {},
   "outputs": [],
   "source": [
    "RESULT_PATH = r\"D:\\Programming\\spind\\results\"\n",
    "spind_pINDs = run()"
   ]
  },
  {
   "cell_type": "code",
   "execution_count": null,
   "metadata": {},
   "outputs": [],
   "source": [
    "not_in = 0\n",
    "yes = 0\n",
    "for b in binder_pINDs:\n",
    "    if b in spind_pINDs:\n",
    "        yes += 1\n",
    "    else:\n",
    "        print(b)\n",
    "        not_in += 1\n",
    "        break\n",
    "yes, not_in"
   ]
  },
  {
   "cell_type": "code",
   "execution_count": null,
   "metadata": {},
   "outputs": [],
   "source": [
    "yes, not_in = 0, 0\n",
    "for s in spind_pINDs:\n",
    "    if s in binder_pINDs:\n",
    "        yes += 1\n",
    "    else:\n",
    "        print(s)\n",
    "        not_in += 1\n",
    "        break\n",
    "yes, not_in"
   ]
  }
 ],
 "metadata": {
  "kernelspec": {
   "display_name": "Python 3",
   "language": "python",
   "name": "python3"
  },
  "language_info": {
   "codemirror_mode": {
    "name": "ipython",
    "version": 3
   },
   "file_extension": ".py",
   "mimetype": "text/x-python",
   "name": "python",
   "nbconvert_exporter": "python",
   "pygments_lexer": "ipython3",
   "version": "3.11.4"
  }
 },
 "nbformat": 4,
 "nbformat_minor": 2
}
